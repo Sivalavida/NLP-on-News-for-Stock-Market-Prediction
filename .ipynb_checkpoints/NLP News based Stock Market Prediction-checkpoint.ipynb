{
 "cells": [
  {
   "cell_type": "markdown",
   "id": "f61767ce",
   "metadata": {
    "toc": true
   },
   "source": [
    "<h1>Table of Contents<span class=\"tocSkip\"></span></h1>\n",
    "<div class=\"toc\"><ul class=\"toc-item\"><li><span><a href=\"#Preprocessing\" data-toc-modified-id=\"Preprocessing-1\"><span class=\"toc-item-num\">1&nbsp;&nbsp;</span>Preprocessing</a></span><ul class=\"toc-item\"><li><span><a href=\"#Train-Test-split\" data-toc-modified-id=\"Train-Test-split-1.1\"><span class=\"toc-item-num\">1.1&nbsp;&nbsp;</span>Train Test split</a></span></li></ul></li><li><span><a href=\"#Build-Models\" data-toc-modified-id=\"Build-Models-2\"><span class=\"toc-item-num\">2&nbsp;&nbsp;</span>Build Models</a></span><ul class=\"toc-item\"><li><span><a href=\"#NN-Embedding-model\" data-toc-modified-id=\"NN-Embedding-model-2.1\"><span class=\"toc-item-num\">2.1&nbsp;&nbsp;</span>NN Embedding model</a></span></li><li><span><a href=\"#BOW-model\" data-toc-modified-id=\"BOW-model-2.2\"><span class=\"toc-item-num\">2.2&nbsp;&nbsp;</span>BOW model</a></span></li><li><span><a href=\"#Using-pretrained-sentiment-analyser\" data-toc-modified-id=\"Using-pretrained-sentiment-analyser-2.3\"><span class=\"toc-item-num\">2.3&nbsp;&nbsp;</span>Using pretrained sentiment analyser</a></span></li></ul></li><li><span><a href=\"#YFinance-Data\" data-toc-modified-id=\"YFinance-Data-3\"><span class=\"toc-item-num\">3&nbsp;&nbsp;</span>YFinance Data</a></span></li><li><span><a href=\"#Scraping-Current-day-headlines\" data-toc-modified-id=\"Scraping-Current-day-headlines-4\"><span class=\"toc-item-num\">4&nbsp;&nbsp;</span>Scraping Current day headlines</a></span></li></ul></div>"
   ]
  },
  {
   "cell_type": "markdown",
   "id": "7eca5dbf",
   "metadata": {},
   "source": [
    "- news data set from : https://www.kaggle.com/datasets/aaron7sun/stocknews?datasetId=129&sortBy=voteCount&select=upload_DJIA_table.csv\n",
    "\n",
    "\n",
    "- Our aim is to predict current day stock movement using current day top news headlines"
   ]
  },
  {
   "cell_type": "code",
   "execution_count": null,
   "id": "0b86ebda",
   "metadata": {
    "ExecuteTime": {
     "start_time": "2022-05-25T05:21:52.604Z"
    }
   },
   "outputs": [],
   "source": [
    "import pandas as pd\n",
    "import matplotlib.pyplot as plt\n",
    "\n",
    "import gensim\n",
    "from tensorflow import keras\n",
    "\n",
    "from tensorflow.keras.preprocessing.text import one_hot\n",
    "from tensorflow.keras.models import Sequential\n",
    "from tensorflow.keras.layers import Dense, Flatten, Embedding, GlobalMaxPooling1D\n",
    "from tensorflow.keras.preprocessing.sequence import pad_sequences\n",
    "\n",
    "from nltk.corpus import stopwords\n",
    "from sklearn.model_selection import train_test_split"
   ]
  },
  {
   "cell_type": "markdown",
   "id": "0b10ae95",
   "metadata": {},
   "source": [
    "# Preprocessing"
   ]
  },
  {
   "cell_type": "code",
   "execution_count": 201,
   "id": "45307e11",
   "metadata": {
    "ExecuteTime": {
     "end_time": "2022-05-25T04:27:13.773297Z",
     "start_time": "2022-05-25T04:27:13.682049Z"
    }
   },
   "outputs": [],
   "source": [
    "df=pd.read_csv('newsdata.csv')"
   ]
  },
  {
   "cell_type": "code",
   "execution_count": 202,
   "id": "af4a9ca2",
   "metadata": {
    "ExecuteTime": {
     "end_time": "2022-05-25T04:27:14.880088Z",
     "start_time": "2022-05-25T04:27:14.866202Z"
    }
   },
   "outputs": [],
   "source": [
    "y = df.Label.to_numpy()"
   ]
  },
  {
   "cell_type": "code",
   "execution_count": 203,
   "id": "6e86f84e",
   "metadata": {
    "ExecuteTime": {
     "end_time": "2022-05-25T04:27:16.076049Z",
     "start_time": "2022-05-25T04:27:16.046987Z"
    }
   },
   "outputs": [
    {
     "data": {
      "text/html": [
       "<div>\n",
       "<style scoped>\n",
       "    .dataframe tbody tr th:only-of-type {\n",
       "        vertical-align: middle;\n",
       "    }\n",
       "\n",
       "    .dataframe tbody tr th {\n",
       "        vertical-align: top;\n",
       "    }\n",
       "\n",
       "    .dataframe thead th {\n",
       "        text-align: right;\n",
       "    }\n",
       "</style>\n",
       "<table border=\"1\" class=\"dataframe\">\n",
       "  <thead>\n",
       "    <tr style=\"text-align: right;\">\n",
       "      <th></th>\n",
       "      <th>Date</th>\n",
       "      <th>Label</th>\n",
       "      <th>Top1</th>\n",
       "      <th>Top2</th>\n",
       "      <th>Top3</th>\n",
       "      <th>Top4</th>\n",
       "      <th>Top5</th>\n",
       "      <th>Top6</th>\n",
       "      <th>Top7</th>\n",
       "      <th>Top8</th>\n",
       "      <th>...</th>\n",
       "      <th>Top16</th>\n",
       "      <th>Top17</th>\n",
       "      <th>Top18</th>\n",
       "      <th>Top19</th>\n",
       "      <th>Top20</th>\n",
       "      <th>Top21</th>\n",
       "      <th>Top22</th>\n",
       "      <th>Top23</th>\n",
       "      <th>Top24</th>\n",
       "      <th>Top25</th>\n",
       "    </tr>\n",
       "  </thead>\n",
       "  <tbody>\n",
       "    <tr>\n",
       "      <th>0</th>\n",
       "      <td>2008-08-08</td>\n",
       "      <td>0</td>\n",
       "      <td>b\"Georgia 'downs two Russian warplanes' as cou...</td>\n",
       "      <td>b'BREAKING: Musharraf to be impeached.'</td>\n",
       "      <td>b'Russia Today: Columns of troops roll into So...</td>\n",
       "      <td>b'Russian tanks are moving towards the capital...</td>\n",
       "      <td>b\"Afghan children raped with 'impunity,' U.N. ...</td>\n",
       "      <td>b'150 Russian tanks have entered South Ossetia...</td>\n",
       "      <td>b\"Breaking: Georgia invades South Ossetia, Rus...</td>\n",
       "      <td>b\"The 'enemy combatent' trials are nothing but...</td>\n",
       "      <td>...</td>\n",
       "      <td>b'Georgia Invades South Ossetia - if Russia ge...</td>\n",
       "      <td>b'Al-Qaeda Faces Islamist Backlash'</td>\n",
       "      <td>b'Condoleezza Rice: \"The US would not act to p...</td>\n",
       "      <td>b'This is a busy day:  The European Union has ...</td>\n",
       "      <td>b\"Georgia will withdraw 1,000 soldiers from Ir...</td>\n",
       "      <td>b'Why the Pentagon Thinks Attacking Iran is a ...</td>\n",
       "      <td>b'Caucasus in crisis: Georgia invades South Os...</td>\n",
       "      <td>b'Indian shoe manufactory  - And again in a se...</td>\n",
       "      <td>b'Visitors Suffering from Mental Illnesses Ban...</td>\n",
       "      <td>b\"No Help for Mexico's Kidnapping Surge\"</td>\n",
       "    </tr>\n",
       "    <tr>\n",
       "      <th>1</th>\n",
       "      <td>2008-08-11</td>\n",
       "      <td>1</td>\n",
       "      <td>b'Why wont America and Nato help us? If they w...</td>\n",
       "      <td>b'Bush puts foot down on Georgian conflict'</td>\n",
       "      <td>b\"Jewish Georgian minister: Thanks to Israeli ...</td>\n",
       "      <td>b'Georgian army flees in disarray as Russians ...</td>\n",
       "      <td>b\"Olympic opening ceremony fireworks 'faked'\"</td>\n",
       "      <td>b'What were the Mossad with fraudulent New Zea...</td>\n",
       "      <td>b'Russia angered by Israeli military sale to G...</td>\n",
       "      <td>b'An American citizen living in S.Ossetia blam...</td>\n",
       "      <td>...</td>\n",
       "      <td>b'Israel and the US behind the Georgian aggres...</td>\n",
       "      <td>b'\"Do not believe TV, neither Russian nor Geor...</td>\n",
       "      <td>b'Riots are still going on in Montreal (Canada...</td>\n",
       "      <td>b'China to overtake US as largest manufacturer'</td>\n",
       "      <td>b'War in South Ossetia [PICS]'</td>\n",
       "      <td>b'Israeli Physicians Group Condemns State Tort...</td>\n",
       "      <td>b' Russia has just beaten the United States ov...</td>\n",
       "      <td>b'Perhaps *the* question about the Georgia - R...</td>\n",
       "      <td>b'Russia is so much better at war'</td>\n",
       "      <td>b\"So this is what it's come to: trading sex fo...</td>\n",
       "    </tr>\n",
       "  </tbody>\n",
       "</table>\n",
       "<p>2 rows × 27 columns</p>\n",
       "</div>"
      ],
      "text/plain": [
       "         Date  Label                                               Top1  \\\n",
       "0  2008-08-08      0  b\"Georgia 'downs two Russian warplanes' as cou...   \n",
       "1  2008-08-11      1  b'Why wont America and Nato help us? If they w...   \n",
       "\n",
       "                                          Top2  \\\n",
       "0      b'BREAKING: Musharraf to be impeached.'   \n",
       "1  b'Bush puts foot down on Georgian conflict'   \n",
       "\n",
       "                                                Top3  \\\n",
       "0  b'Russia Today: Columns of troops roll into So...   \n",
       "1  b\"Jewish Georgian minister: Thanks to Israeli ...   \n",
       "\n",
       "                                                Top4  \\\n",
       "0  b'Russian tanks are moving towards the capital...   \n",
       "1  b'Georgian army flees in disarray as Russians ...   \n",
       "\n",
       "                                                Top5  \\\n",
       "0  b\"Afghan children raped with 'impunity,' U.N. ...   \n",
       "1      b\"Olympic opening ceremony fireworks 'faked'\"   \n",
       "\n",
       "                                                Top6  \\\n",
       "0  b'150 Russian tanks have entered South Ossetia...   \n",
       "1  b'What were the Mossad with fraudulent New Zea...   \n",
       "\n",
       "                                                Top7  \\\n",
       "0  b\"Breaking: Georgia invades South Ossetia, Rus...   \n",
       "1  b'Russia angered by Israeli military sale to G...   \n",
       "\n",
       "                                                Top8  ...  \\\n",
       "0  b\"The 'enemy combatent' trials are nothing but...  ...   \n",
       "1  b'An American citizen living in S.Ossetia blam...  ...   \n",
       "\n",
       "                                               Top16  \\\n",
       "0  b'Georgia Invades South Ossetia - if Russia ge...   \n",
       "1  b'Israel and the US behind the Georgian aggres...   \n",
       "\n",
       "                                               Top17  \\\n",
       "0                b'Al-Qaeda Faces Islamist Backlash'   \n",
       "1  b'\"Do not believe TV, neither Russian nor Geor...   \n",
       "\n",
       "                                               Top18  \\\n",
       "0  b'Condoleezza Rice: \"The US would not act to p...   \n",
       "1  b'Riots are still going on in Montreal (Canada...   \n",
       "\n",
       "                                               Top19  \\\n",
       "0  b'This is a busy day:  The European Union has ...   \n",
       "1    b'China to overtake US as largest manufacturer'   \n",
       "\n",
       "                                               Top20  \\\n",
       "0  b\"Georgia will withdraw 1,000 soldiers from Ir...   \n",
       "1                     b'War in South Ossetia [PICS]'   \n",
       "\n",
       "                                               Top21  \\\n",
       "0  b'Why the Pentagon Thinks Attacking Iran is a ...   \n",
       "1  b'Israeli Physicians Group Condemns State Tort...   \n",
       "\n",
       "                                               Top22  \\\n",
       "0  b'Caucasus in crisis: Georgia invades South Os...   \n",
       "1  b' Russia has just beaten the United States ov...   \n",
       "\n",
       "                                               Top23  \\\n",
       "0  b'Indian shoe manufactory  - And again in a se...   \n",
       "1  b'Perhaps *the* question about the Georgia - R...   \n",
       "\n",
       "                                               Top24  \\\n",
       "0  b'Visitors Suffering from Mental Illnesses Ban...   \n",
       "1                 b'Russia is so much better at war'   \n",
       "\n",
       "                                               Top25  \n",
       "0           b\"No Help for Mexico's Kidnapping Surge\"  \n",
       "1  b\"So this is what it's come to: trading sex fo...  \n",
       "\n",
       "[2 rows x 27 columns]"
      ]
     },
     "execution_count": 203,
     "metadata": {},
     "output_type": "execute_result"
    }
   ],
   "source": [
    "df.head(2)"
   ]
  },
  {
   "cell_type": "code",
   "execution_count": 204,
   "id": "c165483b",
   "metadata": {
    "ExecuteTime": {
     "end_time": "2022-05-25T04:27:17.305927Z",
     "start_time": "2022-05-25T04:27:17.291569Z"
    }
   },
   "outputs": [
    {
     "data": {
      "text/plain": [
       "1    1065\n",
       "0     924\n",
       "Name: Label, dtype: int64"
      ]
     },
     "execution_count": 204,
     "metadata": {},
     "output_type": "execute_result"
    }
   ],
   "source": [
    "df.Label.value_counts() #balanced dataset"
   ]
  },
  {
   "cell_type": "code",
   "execution_count": 205,
   "id": "8f7cae1a",
   "metadata": {
    "ExecuteTime": {
     "end_time": "2022-05-25T04:27:18.512897Z",
     "start_time": "2022-05-25T04:27:18.503952Z"
    }
   },
   "outputs": [
    {
     "data": {
      "text/plain": [
       "(1989, 27)"
      ]
     },
     "execution_count": 205,
     "metadata": {},
     "output_type": "execute_result"
    }
   ],
   "source": [
    "df.shape"
   ]
  },
  {
   "cell_type": "code",
   "execution_count": 206,
   "id": "b55c1816",
   "metadata": {
    "ExecuteTime": {
     "end_time": "2022-05-25T04:27:19.743713Z",
     "start_time": "2022-05-25T04:27:19.730713Z"
    }
   },
   "outputs": [],
   "source": [
    "df = df.iloc[:,:-3].copy()"
   ]
  },
  {
   "cell_type": "code",
   "execution_count": 207,
   "id": "46987b79",
   "metadata": {
    "ExecuteTime": {
     "end_time": "2022-05-25T04:27:20.927978Z",
     "start_time": "2022-05-25T04:27:20.915010Z"
    }
   },
   "outputs": [
    {
     "data": {
      "text/plain": [
       "Index(['Date', 'Label', 'Top1', 'Top2', 'Top3', 'Top4', 'Top5', 'Top6', 'Top7',\n",
       "       'Top8', 'Top9', 'Top10', 'Top11', 'Top12', 'Top13', 'Top14', 'Top15',\n",
       "       'Top16', 'Top17', 'Top18', 'Top19', 'Top20', 'Top21', 'Top22'],\n",
       "      dtype='object')"
      ]
     },
     "execution_count": 207,
     "metadata": {},
     "output_type": "execute_result"
    }
   ],
   "source": [
    "df.columns"
   ]
  },
  {
   "cell_type": "markdown",
   "id": "4cd6914d",
   "metadata": {},
   "source": [
    "- there are some null values at top 23,24,25\n",
    "- The label is that days return. So our problem is did that days news affect that days return."
   ]
  },
  {
   "cell_type": "code",
   "execution_count": 208,
   "id": "475a29f3",
   "metadata": {
    "ExecuteTime": {
     "end_time": "2022-05-25T04:27:22.408886Z",
     "start_time": "2022-05-25T04:27:22.078734Z"
    }
   },
   "outputs": [
    {
     "data": {
      "text/html": [
       "<div>\n",
       "<style scoped>\n",
       "    .dataframe tbody tr th:only-of-type {\n",
       "        vertical-align: middle;\n",
       "    }\n",
       "\n",
       "    .dataframe tbody tr th {\n",
       "        vertical-align: top;\n",
       "    }\n",
       "\n",
       "    .dataframe thead th {\n",
       "        text-align: right;\n",
       "    }\n",
       "</style>\n",
       "<table border=\"1\" class=\"dataframe\">\n",
       "  <thead>\n",
       "    <tr style=\"text-align: right;\">\n",
       "      <th></th>\n",
       "      <th>0</th>\n",
       "      <th>1</th>\n",
       "      <th>2</th>\n",
       "      <th>3</th>\n",
       "      <th>4</th>\n",
       "      <th>5</th>\n",
       "      <th>6</th>\n",
       "      <th>7</th>\n",
       "      <th>8</th>\n",
       "      <th>9</th>\n",
       "      <th>...</th>\n",
       "      <th>12</th>\n",
       "      <th>13</th>\n",
       "      <th>14</th>\n",
       "      <th>15</th>\n",
       "      <th>16</th>\n",
       "      <th>17</th>\n",
       "      <th>18</th>\n",
       "      <th>19</th>\n",
       "      <th>20</th>\n",
       "      <th>21</th>\n",
       "    </tr>\n",
       "  </thead>\n",
       "  <tbody>\n",
       "    <tr>\n",
       "      <th>0</th>\n",
       "      <td>b Georgia  downs two Russian warplanes  as cou...</td>\n",
       "      <td>b BREAKING  Musharraf to be impeached</td>\n",
       "      <td>b Russia Today  Columns of troops roll into So...</td>\n",
       "      <td>b Russian tanks are moving towards the capital...</td>\n",
       "      <td>b Afghan children raped with  impunity   U N  ...</td>\n",
       "      <td>b     Russian tanks have entered South Ossetia...</td>\n",
       "      <td>b Breaking  Georgia invades South Ossetia  Rus...</td>\n",
       "      <td>b The  enemy combatent  trials are nothing but...</td>\n",
       "      <td>b Georgian troops retreat from S  Osettain cap...</td>\n",
       "      <td>b Did the U S  Prep Georgia for War with Russia</td>\n",
       "      <td>...</td>\n",
       "      <td>b So   Russia and Georgia are at war and the N...</td>\n",
       "      <td>b China tells Bush to stay out of other countr...</td>\n",
       "      <td>b Did World War III start today</td>\n",
       "      <td>b Georgia Invades South Ossetia   if Russia ge...</td>\n",
       "      <td>b Al Qaeda Faces Islamist Backlash</td>\n",
       "      <td>b Condoleezza Rice   The US would not act to p...</td>\n",
       "      <td>b This is a busy day   The European Union has ...</td>\n",
       "      <td>b Georgia will withdraw       soldiers from Ir...</td>\n",
       "      <td>b Why the Pentagon Thinks Attacking Iran is a ...</td>\n",
       "      <td>b Caucasus in crisis  Georgia invades South Os...</td>\n",
       "    </tr>\n",
       "    <tr>\n",
       "      <th>1</th>\n",
       "      <td>b Why wont America and Nato help us  If they w...</td>\n",
       "      <td>b Bush puts foot down on Georgian conflict</td>\n",
       "      <td>b Jewish Georgian minister  Thanks to Israeli ...</td>\n",
       "      <td>b Georgian army flees in disarray as Russians ...</td>\n",
       "      <td>b Olympic opening ceremony fireworks  faked</td>\n",
       "      <td>b What were the Mossad with fraudulent New Zea...</td>\n",
       "      <td>b Russia angered by Israeli military sale to G...</td>\n",
       "      <td>b An American citizen living in S Ossetia blam...</td>\n",
       "      <td>b Welcome To World War IV  Now In High Definit...</td>\n",
       "      <td>b Georgia s move  a mistake of monumental prop...</td>\n",
       "      <td>...</td>\n",
       "      <td>b  U S  ship heads for Arctic to define territ...</td>\n",
       "      <td>b Drivers in a Jerusalem taxi station threaten...</td>\n",
       "      <td>b The French Team is Stunned by Phelps and the...</td>\n",
       "      <td>b Israel and the US behind the Georgian aggres...</td>\n",
       "      <td>b  Do not believe TV  neither Russian nor Geor...</td>\n",
       "      <td>b Riots are still going on in Montreal  Canada...</td>\n",
       "      <td>b China to overtake US as largest manufacturer</td>\n",
       "      <td>b War in South Ossetia  PICS</td>\n",
       "      <td>b Israeli Physicians Group Condemns State Tort...</td>\n",
       "      <td>b  Russia has just beaten the United States ov...</td>\n",
       "    </tr>\n",
       "  </tbody>\n",
       "</table>\n",
       "<p>2 rows × 22 columns</p>\n",
       "</div>"
      ],
      "text/plain": [
       "                                                   0  \\\n",
       "0  b Georgia  downs two Russian warplanes  as cou...   \n",
       "1  b Why wont America and Nato help us  If they w...   \n",
       "\n",
       "                                             1  \\\n",
       "0      b BREAKING  Musharraf to be impeached     \n",
       "1  b Bush puts foot down on Georgian conflict    \n",
       "\n",
       "                                                   2  \\\n",
       "0  b Russia Today  Columns of troops roll into So...   \n",
       "1  b Jewish Georgian minister  Thanks to Israeli ...   \n",
       "\n",
       "                                                   3  \\\n",
       "0  b Russian tanks are moving towards the capital...   \n",
       "1  b Georgian army flees in disarray as Russians ...   \n",
       "\n",
       "                                                   4  \\\n",
       "0  b Afghan children raped with  impunity   U N  ...   \n",
       "1      b Olympic opening ceremony fireworks  faked     \n",
       "\n",
       "                                                   5  \\\n",
       "0  b     Russian tanks have entered South Ossetia...   \n",
       "1  b What were the Mossad with fraudulent New Zea...   \n",
       "\n",
       "                                                   6  \\\n",
       "0  b Breaking  Georgia invades South Ossetia  Rus...   \n",
       "1  b Russia angered by Israeli military sale to G...   \n",
       "\n",
       "                                                   7  \\\n",
       "0  b The  enemy combatent  trials are nothing but...   \n",
       "1  b An American citizen living in S Ossetia blam...   \n",
       "\n",
       "                                                   8  \\\n",
       "0  b Georgian troops retreat from S  Osettain cap...   \n",
       "1  b Welcome To World War IV  Now In High Definit...   \n",
       "\n",
       "                                                   9  ...  \\\n",
       "0  b Did the U S  Prep Georgia for War with Russia    ...   \n",
       "1  b Georgia s move  a mistake of monumental prop...  ...   \n",
       "\n",
       "                                                  12  \\\n",
       "0  b So   Russia and Georgia are at war and the N...   \n",
       "1  b  U S  ship heads for Arctic to define territ...   \n",
       "\n",
       "                                                  13  \\\n",
       "0  b China tells Bush to stay out of other countr...   \n",
       "1  b Drivers in a Jerusalem taxi station threaten...   \n",
       "\n",
       "                                                  14  \\\n",
       "0                  b Did World War III start today     \n",
       "1  b The French Team is Stunned by Phelps and the...   \n",
       "\n",
       "                                                  15  \\\n",
       "0  b Georgia Invades South Ossetia   if Russia ge...   \n",
       "1  b Israel and the US behind the Georgian aggres...   \n",
       "\n",
       "                                                  16  \\\n",
       "0                b Al Qaeda Faces Islamist Backlash    \n",
       "1  b  Do not believe TV  neither Russian nor Geor...   \n",
       "\n",
       "                                                  17  \\\n",
       "0  b Condoleezza Rice   The US would not act to p...   \n",
       "1  b Riots are still going on in Montreal  Canada...   \n",
       "\n",
       "                                                  18  \\\n",
       "0  b This is a busy day   The European Union has ...   \n",
       "1    b China to overtake US as largest manufacturer    \n",
       "\n",
       "                                                  19  \\\n",
       "0  b Georgia will withdraw       soldiers from Ir...   \n",
       "1                     b War in South Ossetia  PICS     \n",
       "\n",
       "                                                  20  \\\n",
       "0  b Why the Pentagon Thinks Attacking Iran is a ...   \n",
       "1  b Israeli Physicians Group Condemns State Tort...   \n",
       "\n",
       "                                                  21  \n",
       "0  b Caucasus in crisis  Georgia invades South Os...  \n",
       "1  b  Russia has just beaten the United States ov...  \n",
       "\n",
       "[2 rows x 22 columns]"
      ]
     },
     "execution_count": 208,
     "metadata": {},
     "output_type": "execute_result"
    }
   ],
   "source": [
    "# Removing punctuations\n",
    "data=df.iloc[:,2:].copy()\n",
    "data.replace(\"[^a-zA-Z]\",\" \",regex=True, inplace=True)\n",
    "\n",
    "# Renaming column names for ease of access\n",
    "list1= [i for i in range(22)]\n",
    "new_Index=[str(i) for i in list1]\n",
    "data.columns= new_Index\n",
    "data.head(2)"
   ]
  },
  {
   "cell_type": "code",
   "execution_count": 209,
   "id": "fa227d53",
   "metadata": {
    "ExecuteTime": {
     "end_time": "2022-05-25T04:27:23.606170Z",
     "start_time": "2022-05-25T04:27:23.577572Z"
    }
   },
   "outputs": [],
   "source": [
    "data = data.applymap(lambda s : s.strip('b ')).copy()"
   ]
  },
  {
   "cell_type": "code",
   "execution_count": 210,
   "id": "686124eb",
   "metadata": {
    "ExecuteTime": {
     "end_time": "2022-05-25T04:27:24.772512Z",
     "start_time": "2022-05-25T04:27:24.726402Z"
    }
   },
   "outputs": [],
   "source": [
    "# Convertng headlines to lower case\n",
    "for index in new_Index:\n",
    "    data[index]=data[index].str.lower()"
   ]
  },
  {
   "cell_type": "code",
   "execution_count": 211,
   "id": "a75f2bff",
   "metadata": {
    "ExecuteTime": {
     "end_time": "2022-05-25T04:27:25.876107Z",
     "start_time": "2022-05-25T04:27:25.848147Z"
    }
   },
   "outputs": [
    {
     "data": {
      "text/html": [
       "<div>\n",
       "<style scoped>\n",
       "    .dataframe tbody tr th:only-of-type {\n",
       "        vertical-align: middle;\n",
       "    }\n",
       "\n",
       "    .dataframe tbody tr th {\n",
       "        vertical-align: top;\n",
       "    }\n",
       "\n",
       "    .dataframe thead th {\n",
       "        text-align: right;\n",
       "    }\n",
       "</style>\n",
       "<table border=\"1\" class=\"dataframe\">\n",
       "  <thead>\n",
       "    <tr style=\"text-align: right;\">\n",
       "      <th></th>\n",
       "      <th>0</th>\n",
       "      <th>1</th>\n",
       "      <th>2</th>\n",
       "      <th>3</th>\n",
       "      <th>4</th>\n",
       "      <th>5</th>\n",
       "      <th>6</th>\n",
       "      <th>7</th>\n",
       "      <th>8</th>\n",
       "      <th>9</th>\n",
       "      <th>...</th>\n",
       "      <th>12</th>\n",
       "      <th>13</th>\n",
       "      <th>14</th>\n",
       "      <th>15</th>\n",
       "      <th>16</th>\n",
       "      <th>17</th>\n",
       "      <th>18</th>\n",
       "      <th>19</th>\n",
       "      <th>20</th>\n",
       "      <th>21</th>\n",
       "    </tr>\n",
       "  </thead>\n",
       "  <tbody>\n",
       "    <tr>\n",
       "      <th>0</th>\n",
       "      <td>georgia  downs two russian warplanes  as count...</td>\n",
       "      <td>breaking  musharraf to be impeached</td>\n",
       "      <td>russia today  columns of troops roll into sout...</td>\n",
       "      <td>russian tanks are moving towards the capital o...</td>\n",
       "      <td>afghan children raped with  impunity   u n  of...</td>\n",
       "      <td>russian tanks have entered south ossetia whils...</td>\n",
       "      <td>breaking  georgia invades south ossetia  russi...</td>\n",
       "      <td>the  enemy combatent  trials are nothing but a...</td>\n",
       "      <td>georgian troops retreat from s  osettain capit...</td>\n",
       "      <td>did the u s  prep georgia for war with russia</td>\n",
       "      <td>...</td>\n",
       "      <td>so   russia and georgia are at war and the nyt...</td>\n",
       "      <td>china tells bush to stay out of other countrie...</td>\n",
       "      <td>did world war iii start today</td>\n",
       "      <td>georgia invades south ossetia   if russia gets...</td>\n",
       "      <td>al qaeda faces islamist backlash</td>\n",
       "      <td>condoleezza rice   the us would not act to pre...</td>\n",
       "      <td>this is a busy day   the european union has ap...</td>\n",
       "      <td>georgia will withdraw       soldiers from iraq...</td>\n",
       "      <td>why the pentagon thinks attacking iran is a ba...</td>\n",
       "      <td>caucasus in crisis  georgia invades south ossetia</td>\n",
       "    </tr>\n",
       "  </tbody>\n",
       "</table>\n",
       "<p>1 rows × 22 columns</p>\n",
       "</div>"
      ],
      "text/plain": [
       "                                                   0  \\\n",
       "0  georgia  downs two russian warplanes  as count...   \n",
       "\n",
       "                                     1  \\\n",
       "0  breaking  musharraf to be impeached   \n",
       "\n",
       "                                                   2  \\\n",
       "0  russia today  columns of troops roll into sout...   \n",
       "\n",
       "                                                   3  \\\n",
       "0  russian tanks are moving towards the capital o...   \n",
       "\n",
       "                                                   4  \\\n",
       "0  afghan children raped with  impunity   u n  of...   \n",
       "\n",
       "                                                   5  \\\n",
       "0  russian tanks have entered south ossetia whils...   \n",
       "\n",
       "                                                   6  \\\n",
       "0  breaking  georgia invades south ossetia  russi...   \n",
       "\n",
       "                                                   7  \\\n",
       "0  the  enemy combatent  trials are nothing but a...   \n",
       "\n",
       "                                                   8  \\\n",
       "0  georgian troops retreat from s  osettain capit...   \n",
       "\n",
       "                                               9  ...  \\\n",
       "0  did the u s  prep georgia for war with russia  ...   \n",
       "\n",
       "                                                  12  \\\n",
       "0  so   russia and georgia are at war and the nyt...   \n",
       "\n",
       "                                                  13  \\\n",
       "0  china tells bush to stay out of other countrie...   \n",
       "\n",
       "                              14  \\\n",
       "0  did world war iii start today   \n",
       "\n",
       "                                                  15  \\\n",
       "0  georgia invades south ossetia   if russia gets...   \n",
       "\n",
       "                                 16  \\\n",
       "0  al qaeda faces islamist backlash   \n",
       "\n",
       "                                                  17  \\\n",
       "0  condoleezza rice   the us would not act to pre...   \n",
       "\n",
       "                                                  18  \\\n",
       "0  this is a busy day   the european union has ap...   \n",
       "\n",
       "                                                  19  \\\n",
       "0  georgia will withdraw       soldiers from iraq...   \n",
       "\n",
       "                                                  20  \\\n",
       "0  why the pentagon thinks attacking iran is a ba...   \n",
       "\n",
       "                                                  21  \n",
       "0  caucasus in crisis  georgia invades south ossetia  \n",
       "\n",
       "[1 rows x 22 columns]"
      ]
     },
     "execution_count": 211,
     "metadata": {},
     "output_type": "execute_result"
    }
   ],
   "source": [
    "data.head(1)"
   ]
  },
  {
   "cell_type": "code",
   "execution_count": 212,
   "id": "7026fa4b",
   "metadata": {
    "ExecuteTime": {
     "end_time": "2022-05-25T04:27:27.235577Z",
     "start_time": "2022-05-25T04:27:26.999286Z"
    }
   },
   "outputs": [],
   "source": [
    "headlines = []\n",
    "for row in range(0,len(data.index)):\n",
    "    headlines.append(' '.join(str(x) for x in data.iloc[row,0:25]))    \n",
    "headlines = pd.Series(headlines)"
   ]
  },
  {
   "cell_type": "code",
   "execution_count": 213,
   "id": "b93ddf95",
   "metadata": {
    "ExecuteTime": {
     "end_time": "2022-05-25T04:27:28.353773Z",
     "start_time": "2022-05-25T04:27:28.334747Z"
    }
   },
   "outputs": [
    {
     "data": {
      "text/plain": [
       "0       georgia  downs two russian warplanes  as count...\n",
       "1       why wont america and nato help us  if they won...\n",
       "2       remember that adorable   year old who sang at ...\n",
       "3       u s  refuses israel weapons to attack iran  re...\n",
       "4       all the experts admit that we should legalise ...\n",
       "                              ...                        \n",
       "1984    barclays and rbs shares suspended from trading...\n",
       "1985    scientists to australia  if you want to save t...\n",
       "1986    explosion at airport in istanbul yemeni former...\n",
       "1987    jamaica proposes marijuana dispensers for tour...\n",
       "1988    a     year old woman in mexico city finally re...\n",
       "Length: 1989, dtype: object"
      ]
     },
     "execution_count": 213,
     "metadata": {},
     "output_type": "execute_result"
    }
   ],
   "source": [
    "headlines"
   ]
  },
  {
   "cell_type": "code",
   "execution_count": 214,
   "id": "f29b5004",
   "metadata": {
    "ExecuteTime": {
     "end_time": "2022-05-25T04:27:30.480307Z",
     "start_time": "2022-05-25T04:27:29.491952Z"
    }
   },
   "outputs": [],
   "source": [
    "#tokenize and simple cleaning\n",
    "headlines=headlines.apply(gensim.utils.simple_preprocess)"
   ]
  },
  {
   "cell_type": "code",
   "execution_count": 215,
   "id": "9cb3a768",
   "metadata": {
    "ExecuteTime": {
     "end_time": "2022-05-25T04:27:31.657638Z",
     "start_time": "2022-05-25T04:27:31.551601Z"
    }
   },
   "outputs": [],
   "source": [
    "stop_words = set(stopwords.words('english'))\n",
    "hl = []\n",
    "for h in headlines:\n",
    "    L = [i for i in h if i not in stop_words]\n",
    "    L=' '.join(L)\n",
    "    hl.append(L)"
   ]
  },
  {
   "cell_type": "code",
   "execution_count": 216,
   "id": "d0f28bcd",
   "metadata": {
    "ExecuteTime": {
     "end_time": "2022-05-25T04:27:32.818055Z",
     "start_time": "2022-05-25T04:27:32.805092Z"
    }
   },
   "outputs": [
    {
     "data": {
      "text/plain": [
       "'georgia downs two russian warplanes countries move brink war breaking musharraf impeached russia today columns troops roll south ossetia footage fighting youtube russian tanks moving towards capital south ossetia reportedly completely destroyed georgian artillery fire afghan children raped impunity official says sick three year old raped nothing russian tanks entered south ossetia whilst georgia shoots two russian jets breaking georgia invades south ossetia russia warned would intervene side enemy combatent trials nothing sham salim haman sentenced years kept longer anyway feel like georgian troops retreat osettain capital presumably leaving several hundred people killed video prep georgia war russia rice gives green light israel attack iran says veto israeli military ops announcing class action lawsuit behalf american public fbi russia georgia war nyt top story opening ceremonies olympics fucking disgrace yet proof decline journalism china tells bush stay countries affairs world war iii start today georgia invades south ossetia russia gets involved nato absorb georgia unleash full scale war al qaeda faces islamist backlash condoleezza rice us would act prevent israeli strike iran israeli defense minister ehud barak israel prepared uncompromising victory case military hostilities busy day european union approved new sanctions iran protest nuclear programme georgia withdraw soldiers iraq help fight russian forces georgia breakaway region south ossetia pentagon thinks attacking iran bad idea us news amp world report caucasus crisis georgia invades south ossetia'"
      ]
     },
     "execution_count": 216,
     "metadata": {},
     "output_type": "execute_result"
    }
   ],
   "source": [
    "hl[0]"
   ]
  },
  {
   "cell_type": "code",
   "execution_count": 217,
   "id": "b7beb5d6",
   "metadata": {
    "ExecuteTime": {
     "end_time": "2022-05-25T04:27:34.271676Z",
     "start_time": "2022-05-25T04:27:34.020781Z"
    }
   },
   "outputs": [],
   "source": [
    "vocabsize=10000\n",
    "encode = [one_hot(i, vocabsize) for i in hl]"
   ]
  },
  {
   "cell_type": "code",
   "execution_count": 218,
   "id": "aa56023a",
   "metadata": {
    "ExecuteTime": {
     "end_time": "2022-05-25T04:27:35.471060Z",
     "start_time": "2022-05-25T04:27:35.457315Z"
    }
   },
   "outputs": [],
   "source": [
    "#examples\n",
    "# s='i had a great day. i had a good day'\n",
    "# one_hot(s,10)"
   ]
  },
  {
   "cell_type": "code",
   "execution_count": 219,
   "id": "de47c38b",
   "metadata": {
    "ExecuteTime": {
     "end_time": "2022-05-25T04:27:36.629448Z",
     "start_time": "2022-05-25T04:27:36.584566Z"
    }
   },
   "outputs": [
    {
     "data": {
      "text/plain": [
       "array([[8867,  585, 9105, ...,    0,    0,    0],\n",
       "       [4812, 4051, 3253, ...,    0,    0,    0],\n",
       "       [ 281, 9859, 6704, ...,    0,    0,    0],\n",
       "       ...,\n",
       "       [7834, 6223, 2361, ...,    0,    0,    0],\n",
       "       [7394, 8689, 5866, ...,    0,    0,    0],\n",
       "       [6704, 6313, 4270, ...,    0,    0,    0]])"
      ]
     },
     "execution_count": 219,
     "metadata": {},
     "output_type": "execute_result"
    }
   ],
   "source": [
    "#padding\n",
    "sentlen = 500\n",
    "pad = pad_sequences(encode, maxlen=sentlen, padding='post')\n",
    "pad"
   ]
  },
  {
   "cell_type": "code",
   "execution_count": 220,
   "id": "20744ee9",
   "metadata": {
    "ExecuteTime": {
     "end_time": "2022-05-25T04:27:37.828325Z",
     "start_time": "2022-05-25T04:27:37.814369Z"
    }
   },
   "outputs": [
    {
     "data": {
      "text/plain": [
       "(1989, 500)"
      ]
     },
     "execution_count": 220,
     "metadata": {},
     "output_type": "execute_result"
    }
   ],
   "source": [
    "pad.shape"
   ]
  },
  {
   "cell_type": "markdown",
   "id": "dbd308fb",
   "metadata": {},
   "source": [
    "## Train Test split"
   ]
  },
  {
   "cell_type": "code",
   "execution_count": 221,
   "id": "506ef096",
   "metadata": {
    "ExecuteTime": {
     "end_time": "2022-05-25T04:27:38.983445Z",
     "start_time": "2022-05-25T04:27:38.969483Z"
    }
   },
   "outputs": [
    {
     "name": "stdout",
     "output_type": "stream",
     "text": [
      "(1591, 500)\n",
      "(398, 500)\n",
      "(1300, 500)\n",
      "(398, 500)\n"
     ]
    }
   ],
   "source": [
    "Xtrain, Xtest, ytrain, ytest = train_test_split(pad, df.Label.to_numpy(), test_size=0.2, shuffle=False)\n",
    "\n",
    "print(Xtrain.shape)\n",
    "print(Xtest.shape)\n",
    "\n",
    "Xval = Xtrain[1300:]\n",
    "Xtrain = Xtrain[:1300]\n",
    "yval = ytrain[1300:]\n",
    "ytrain = ytrain[:1300]\n",
    "\n",
    "print(Xtrain.shape)\n",
    "print(Xtest.shape)"
   ]
  },
  {
   "cell_type": "markdown",
   "id": "b18a76fa",
   "metadata": {},
   "source": [
    "# Build Models"
   ]
  },
  {
   "cell_type": "markdown",
   "id": "5c12cbcf",
   "metadata": {},
   "source": [
    "## NN Embedding model"
   ]
  },
  {
   "cell_type": "code",
   "execution_count": 286,
   "id": "33297315",
   "metadata": {
    "ExecuteTime": {
     "end_time": "2022-05-25T05:07:20.396427Z",
     "start_time": "2022-05-25T05:07:20.351549Z"
    }
   },
   "outputs": [],
   "source": [
    "# Architecture\n",
    "m = Sequential()\n",
    "m.add(Embedding(vocabsize, 32, input_length=sentlen)) #out will be an 2D array of vectors so can either mean or flatten\n",
    "m.add(GlobalMaxPooling1D())\n",
    "# m.add(Flatten())\n",
    "m.add(Dense(1,activation='sigmoid'))"
   ]
  },
  {
   "cell_type": "markdown",
   "id": "0e385f78",
   "metadata": {},
   "source": [
    "- not sure why Embedding layer does not have window size (maybe it is not cbow?)"
   ]
  },
  {
   "cell_type": "code",
   "execution_count": 287,
   "id": "a02b5f65",
   "metadata": {
    "ExecuteTime": {
     "end_time": "2022-05-25T05:07:21.753983Z",
     "start_time": "2022-05-25T05:07:21.741018Z"
    }
   },
   "outputs": [],
   "source": [
    "m.compile(optimizer='adam', loss='binary_crossentropy', metrics=['accuracy'])"
   ]
  },
  {
   "cell_type": "code",
   "execution_count": 288,
   "id": "0ffc1262",
   "metadata": {
    "ExecuteTime": {
     "end_time": "2022-05-25T05:07:22.985972Z",
     "start_time": "2022-05-25T05:07:22.955048Z"
    }
   },
   "outputs": [
    {
     "name": "stdout",
     "output_type": "stream",
     "text": [
      "Model: \"sequential_10\"\n",
      "_________________________________________________________________\n",
      " Layer (type)                Output Shape              Param #   \n",
      "=================================================================\n",
      " embedding_10 (Embedding)    (None, 500, 32)           320000    \n",
      "                                                                 \n",
      " global_max_pooling1d_8 (Glo  (None, 32)               0         \n",
      " balMaxPooling1D)                                                \n",
      "                                                                 \n",
      " dense_10 (Dense)            (None, 1)                 33        \n",
      "                                                                 \n",
      "=================================================================\n",
      "Total params: 320,033\n",
      "Trainable params: 320,033\n",
      "Non-trainable params: 0\n",
      "_________________________________________________________________\n"
     ]
    }
   ],
   "source": [
    "m.summary()"
   ]
  },
  {
   "cell_type": "code",
   "execution_count": 289,
   "id": "9b695c00",
   "metadata": {
    "ExecuteTime": {
     "end_time": "2022-05-25T05:07:24.145508Z",
     "start_time": "2022-05-25T05:07:24.131918Z"
    }
   },
   "outputs": [
    {
     "data": {
      "text/plain": [
       "(1300, 500)"
      ]
     },
     "execution_count": 289,
     "metadata": {},
     "output_type": "execute_result"
    }
   ],
   "source": [
    "Xtrain.shape"
   ]
  },
  {
   "cell_type": "code",
   "execution_count": 290,
   "id": "dfa4222b",
   "metadata": {
    "ExecuteTime": {
     "end_time": "2022-05-25T05:07:31.066715Z",
     "start_time": "2022-05-25T05:07:25.372358Z"
    }
   },
   "outputs": [
    {
     "data": {
      "image/png": "[encoded data removed]",
      "text/plain": [
       "<Figure size 1080x360 with 2 Axes>"
      ]
     },
     "metadata": {
      "needs_background": "light"
     },
     "output_type": "display_data"
    },
    {
     "name": "stdout",
     "output_type": "stream",
     "text": [
      "\b\b\b\b\b\b\b\b\b\b\b\b\b\b\b\b\b\b\b\b\b\b\b\b\b\b\b\b\b\b\b\b\b\b\b\b\b\b\b\b\b\b\b\b\b\b\b\b\b\b\b\b\b\b\b\b\b\b\b\b\b\b\b\b\b\b\b\b\b\b\b\b\b\b\b\b\b\b\b\b\b\b\r",
      "13/13 [==============================] - 0s 39ms/step - loss: 0.6634 - accuracy: 0.5392 - val_loss: 0.6842 - val_accuracy: 0.5670\n"
     ]
    },
    {
     "data": {
      "text/plain": [
       "<keras.callbacks.History at 0x22a89b4e0a0>"
      ]
     },
     "execution_count": 290,
     "metadata": {},
     "output_type": "execute_result"
    }
   ],
   "source": [
    "m.fit(Xtrain, ytrain, epochs=10, batch_size=100,validation_data=(Xval, yval), verbose=1 ,callbacks=[PlotLearning()])"
   ]
  },
  {
   "cell_type": "code",
   "execution_count": 291,
   "id": "12bc2d0d",
   "metadata": {
    "ExecuteTime": {
     "end_time": "2022-05-25T05:07:32.436505Z",
     "start_time": "2022-05-25T05:07:32.282111Z"
    }
   },
   "outputs": [
    {
     "name": "stdout",
     "output_type": "stream",
     "text": [
      "41/41 [==============================] - 0s 2ms/step - loss: 0.6597 - accuracy: 0.5431\n"
     ]
    },
    {
     "data": {
      "text/plain": [
       "[0.6597226858139038, 0.5430769324302673]"
      ]
     },
     "execution_count": 291,
     "metadata": {},
     "output_type": "execute_result"
    }
   ],
   "source": [
    "m.evaluate(Xtrain,ytrain)"
   ]
  },
  {
   "cell_type": "code",
   "execution_count": 292,
   "id": "cfa0f8e0",
   "metadata": {
    "ExecuteTime": {
     "end_time": "2022-05-25T05:07:33.732706Z",
     "start_time": "2022-05-25T05:07:33.624991Z"
    }
   },
   "outputs": [
    {
     "name": "stdout",
     "output_type": "stream",
     "text": [
      "13/13 [==============================] - 0s 3ms/step - loss: 0.6958 - accuracy: 0.5075\n"
     ]
    },
    {
     "data": {
      "text/plain": [
       "[0.6957769393920898, 0.5075376629829407]"
      ]
     },
     "execution_count": 292,
     "metadata": {},
     "output_type": "execute_result"
    }
   ],
   "source": [
    "m.evaluate(Xtest,ytest)"
   ]
  },
  {
   "cell_type": "code",
   "execution_count": 293,
   "id": "e7aa439f",
   "metadata": {
    "ExecuteTime": {
     "end_time": "2022-05-25T05:07:41.814342Z",
     "start_time": "2022-05-25T05:07:41.622450Z"
    }
   },
   "outputs": [
    {
     "name": "stdout",
     "output_type": "stream",
     "text": [
      "41/41 [==============================] - 0s 2ms/step\n"
     ]
    },
    {
     "data": {
      "text/html": [
       "<div>\n",
       "<style scoped>\n",
       "    .dataframe tbody tr th:only-of-type {\n",
       "        vertical-align: middle;\n",
       "    }\n",
       "\n",
       "    .dataframe tbody tr th {\n",
       "        vertical-align: top;\n",
       "    }\n",
       "\n",
       "    .dataframe thead th {\n",
       "        text-align: right;\n",
       "    }\n",
       "</style>\n",
       "<table border=\"1\" class=\"dataframe\">\n",
       "  <thead>\n",
       "    <tr style=\"text-align: right;\">\n",
       "      <th></th>\n",
       "      <th>0</th>\n",
       "      <th>pred</th>\n",
       "    </tr>\n",
       "  </thead>\n",
       "  <tbody>\n",
       "    <tr>\n",
       "      <th>0</th>\n",
       "      <td>0.533541</td>\n",
       "      <td>0</td>\n",
       "    </tr>\n",
       "    <tr>\n",
       "      <th>1</th>\n",
       "      <td>0.555835</td>\n",
       "      <td>1</td>\n",
       "    </tr>\n",
       "    <tr>\n",
       "      <th>2</th>\n",
       "      <td>0.521137</td>\n",
       "      <td>0</td>\n",
       "    </tr>\n",
       "    <tr>\n",
       "      <th>3</th>\n",
       "      <td>0.523445</td>\n",
       "      <td>0</td>\n",
       "    </tr>\n",
       "    <tr>\n",
       "      <th>4</th>\n",
       "      <td>0.550134</td>\n",
       "      <td>1</td>\n",
       "    </tr>\n",
       "    <tr>\n",
       "      <th>...</th>\n",
       "      <td>...</td>\n",
       "      <td>...</td>\n",
       "    </tr>\n",
       "    <tr>\n",
       "      <th>1295</th>\n",
       "      <td>0.547190</td>\n",
       "      <td>1</td>\n",
       "    </tr>\n",
       "    <tr>\n",
       "      <th>1296</th>\n",
       "      <td>0.516959</td>\n",
       "      <td>0</td>\n",
       "    </tr>\n",
       "    <tr>\n",
       "      <th>1297</th>\n",
       "      <td>0.518323</td>\n",
       "      <td>0</td>\n",
       "    </tr>\n",
       "    <tr>\n",
       "      <th>1298</th>\n",
       "      <td>0.559807</td>\n",
       "      <td>1</td>\n",
       "    </tr>\n",
       "    <tr>\n",
       "      <th>1299</th>\n",
       "      <td>0.522982</td>\n",
       "      <td>0</td>\n",
       "    </tr>\n",
       "  </tbody>\n",
       "</table>\n",
       "<p>1300 rows × 2 columns</p>\n",
       "</div>"
      ],
      "text/plain": [
       "             0  pred\n",
       "0     0.533541     0\n",
       "1     0.555835     1\n",
       "2     0.521137     0\n",
       "3     0.523445     0\n",
       "4     0.550134     1\n",
       "...        ...   ...\n",
       "1295  0.547190     1\n",
       "1296  0.516959     0\n",
       "1297  0.518323     0\n",
       "1298  0.559807     1\n",
       "1299  0.522982     0\n",
       "\n",
       "[1300 rows x 2 columns]"
      ]
     },
     "execution_count": 293,
     "metadata": {},
     "output_type": "execute_result"
    }
   ],
   "source": [
    "da=pd.DataFrame(m.predict(Xtrain))\n",
    "da['pred'] = ytrain\n",
    "da"
   ]
  },
  {
   "cell_type": "code",
   "execution_count": 256,
   "id": "028b99ce",
   "metadata": {
    "ExecuteTime": {
     "end_time": "2022-05-25T04:54:56.185957Z",
     "start_time": "2022-05-25T04:54:56.167006Z"
    }
   },
   "outputs": [],
   "source": [
    "from tensorflow import keras\n",
    "from IPython.display import clear_output\n",
    "class PlotLearning(keras.callbacks.Callback):\n",
    "    \"\"\"\n",
    "    Callback to plot the learning curves of the model during training.\n",
    "    \"\"\"\n",
    "    def on_train_begin(self, logs={}):\n",
    "        self.metrics = {}\n",
    "        for metric in logs:\n",
    "            self.metrics[metric] = []\n",
    "            \n",
    "\n",
    "    def on_epoch_end(self, epoch, logs={}):\n",
    "        # Storing metrics\n",
    "        for metric in logs:\n",
    "            if metric in self.metrics:\n",
    "                self.metrics[metric].append(logs.get(metric))\n",
    "            else:\n",
    "                self.metrics[metric] = [logs.get(metric)]\n",
    "        \n",
    "        # Plotting\n",
    "        metrics = [x for x in logs if 'val' not in x]\n",
    "        \n",
    "        f, axs = plt.subplots(1, len(metrics), figsize=(15,5))\n",
    "        clear_output(wait=True)\n",
    "\n",
    "        for i, metric in enumerate(metrics):\n",
    "            axs[i].plot(range(1, epoch + 2), \n",
    "                        self.metrics[metric], \n",
    "                        label=metric)\n",
    "            if logs['val_' + metric]:\n",
    "                axs[i].plot(range(1, epoch + 2), \n",
    "                            self.metrics['val_' + metric], \n",
    "                            label='val_' + metric)\n",
    "                \n",
    "            axs[i].legend()\n",
    "            axs[i].grid()\n",
    "\n",
    "        plt.tight_layout()\n",
    "        plt.show()"
   ]
  },
  {
   "cell_type": "code",
   "execution_count": null,
   "id": "79499bd0",
   "metadata": {},
   "outputs": [],
   "source": []
  },
  {
   "cell_type": "markdown",
   "id": "bf3b39e3",
   "metadata": {},
   "source": [
    "## BOW model"
   ]
  },
  {
   "cell_type": "code",
   "execution_count": 128,
   "id": "9a6504e7",
   "metadata": {
    "ExecuteTime": {
     "end_time": "2022-05-25T04:04:24.127044Z",
     "start_time": "2022-05-25T04:04:24.108317Z"
    }
   },
   "outputs": [],
   "source": [
    "from sklearn.feature_extraction.text import TfidfVectorizer, CountVectorizer\n",
    "from sklearn.ensemble import RandomForestClassifier\n",
    "from sklearn.linear_model import LogisticRegression\n",
    "from sklearn.metrics import classification_report,confusion_matrix,accuracy_score"
   ]
  },
  {
   "cell_type": "code",
   "execution_count": 129,
   "id": "5025e346",
   "metadata": {
    "ExecuteTime": {
     "end_time": "2022-05-25T04:04:27.415863Z",
     "start_time": "2022-05-25T04:04:26.303944Z"
    }
   },
   "outputs": [],
   "source": [
    "# countvector=CountVectorizer(ngram_range=(1,1))\n",
    "countvector=TfidfVectorizer(stop_words='english', max_features= None, max_df = 0.5, min_df=2, smooth_idf=True,\n",
    "                             ngram_range=(1,1), norm='l2')\n",
    "bow=countvector.fit_transform(hl)"
   ]
  },
  {
   "cell_type": "code",
   "execution_count": 130,
   "id": "74318be0",
   "metadata": {
    "ExecuteTime": {
     "end_time": "2022-05-25T04:04:29.578300Z",
     "start_time": "2022-05-25T04:04:29.570321Z"
    }
   },
   "outputs": [
    {
     "data": {
      "text/plain": [
       "<1989x18160 sparse matrix of type '<class 'numpy.float64'>'\n",
       "\twith 403679 stored elements in Compressed Sparse Row format>"
      ]
     },
     "execution_count": 130,
     "metadata": {},
     "output_type": "execute_result"
    }
   ],
   "source": [
    "bow"
   ]
  },
  {
   "cell_type": "code",
   "execution_count": 131,
   "id": "3c1b7d54",
   "metadata": {
    "ExecuteTime": {
     "end_time": "2022-05-25T04:04:36.219334Z",
     "start_time": "2022-05-25T04:04:36.205240Z"
    }
   },
   "outputs": [
    {
     "name": "stdout",
     "output_type": "stream",
     "text": [
      "(1591, 18160)\n",
      "(398, 18160)\n"
     ]
    }
   ],
   "source": [
    "Xtrain, Xtest, ytrain, ytest = train_test_split(bow, df.Label.to_numpy(), test_size=0.2, shuffle=False)\n",
    "\n",
    "print(Xtrain.shape)\n",
    "print(Xtest.shape)"
   ]
  },
  {
   "cell_type": "code",
   "execution_count": 132,
   "id": "61cdec99",
   "metadata": {
    "ExecuteTime": {
     "end_time": "2022-05-25T04:04:51.217224Z",
     "start_time": "2022-05-25T04:04:42.499283Z"
    }
   },
   "outputs": [
    {
     "data": {
      "text/plain": [
       "RandomForestClassifier(criterion='entropy', n_estimators=200)"
      ]
     },
     "execution_count": 132,
     "metadata": {},
     "output_type": "execute_result"
    }
   ],
   "source": [
    "# implement RandomForest Classifier\n",
    "m=RandomForestClassifier(n_estimators=200,criterion='entropy')\n",
    "m.fit(Xtrain,ytrain)"
   ]
  },
  {
   "cell_type": "code",
   "execution_count": 133,
   "id": "a9b00b57",
   "metadata": {
    "ExecuteTime": {
     "end_time": "2022-05-25T04:04:54.989641Z",
     "start_time": "2022-05-25T04:04:54.187666Z"
    }
   },
   "outputs": [],
   "source": [
    "ytrainpred=m.predict(Xtrain)\n",
    "ytestpred=m.predict(Xtest)"
   ]
  },
  {
   "cell_type": "code",
   "execution_count": 134,
   "id": "6ad872fd",
   "metadata": {
    "ExecuteTime": {
     "end_time": "2022-05-25T04:04:57.087071Z",
     "start_time": "2022-05-25T04:04:57.061059Z"
    }
   },
   "outputs": [
    {
     "name": "stdout",
     "output_type": "stream",
     "text": [
      "              precision    recall  f1-score   support\n",
      "\n",
      "           0       1.00      1.00      1.00       728\n",
      "           1       1.00      1.00      1.00       863\n",
      "\n",
      "    accuracy                           1.00      1591\n",
      "   macro avg       1.00      1.00      1.00      1591\n",
      "weighted avg       1.00      1.00      1.00      1591\n",
      "\n"
     ]
    }
   ],
   "source": [
    "print(classification_report(ytrain,ytrainpred))"
   ]
  },
  {
   "cell_type": "code",
   "execution_count": 135,
   "id": "f536fb3b",
   "metadata": {
    "ExecuteTime": {
     "end_time": "2022-05-25T04:04:59.160414Z",
     "start_time": "2022-05-25T04:04:59.133864Z"
    }
   },
   "outputs": [
    {
     "name": "stdout",
     "output_type": "stream",
     "text": [
      "              precision    recall  f1-score   support\n",
      "\n",
      "           0       0.44      0.14      0.21       196\n",
      "           1       0.50      0.83      0.62       202\n",
      "\n",
      "    accuracy                           0.49       398\n",
      "   macro avg       0.47      0.48      0.42       398\n",
      "weighted avg       0.47      0.49      0.42       398\n",
      "\n"
     ]
    }
   ],
   "source": [
    "print(classification_report(ytest,ytestpred))"
   ]
  },
  {
   "cell_type": "markdown",
   "id": "8d3e6412",
   "metadata": {},
   "source": [
    "## Using pretrained sentiment analyser"
   ]
  },
  {
   "cell_type": "code",
   "execution_count": 138,
   "id": "e80f67b4",
   "metadata": {
    "ExecuteTime": {
     "end_time": "2022-05-25T04:10:17.345970Z",
     "start_time": "2022-05-25T04:10:17.124330Z"
    }
   },
   "outputs": [
    {
     "name": "stderr",
     "output_type": "stream",
     "text": [
      "[nltk_data] Downloading package vader_lexicon to\n",
      "[nltk_data]     C:\\Users\\sival\\AppData\\Roaming\\nltk_data...\n"
     ]
    },
    {
     "data": {
      "text/plain": [
       "True"
      ]
     },
     "execution_count": 138,
     "metadata": {},
     "output_type": "execute_result"
    }
   ],
   "source": [
    "from nltk.sentiment.vader import SentimentIntensityAnalyzer\n",
    "import nltk\n",
    "nltk.download('vader_lexicon')"
   ]
  },
  {
   "cell_type": "code",
   "execution_count": 139,
   "id": "79965b23",
   "metadata": {
    "ExecuteTime": {
     "end_time": "2022-05-25T04:10:18.549074Z",
     "start_time": "2022-05-25T04:10:18.507111Z"
    }
   },
   "outputs": [],
   "source": [
    "analyzer = SentimentIntensityAnalyzer()"
   ]
  },
  {
   "cell_type": "code",
   "execution_count": 153,
   "id": "62e7208f",
   "metadata": {
    "ExecuteTime": {
     "end_time": "2022-05-25T04:12:34.850109Z",
     "start_time": "2022-05-25T04:12:34.836101Z"
    }
   },
   "outputs": [
    {
     "data": {
      "text/plain": [
       "{'neg': 0.277, 'neu': 0.667, 'pos': 0.056, 'compound': -0.9966}"
      ]
     },
     "execution_count": 153,
     "metadata": {},
     "output_type": "execute_result"
    }
   ],
   "source": [
    "analyzer.polarity_scores(hl[0])"
   ]
  },
  {
   "cell_type": "code",
   "execution_count": 154,
   "id": "e22fc1c0",
   "metadata": {
    "ExecuteTime": {
     "end_time": "2022-05-25T04:13:29.221567Z",
     "start_time": "2022-05-25T04:13:14.971943Z"
    }
   },
   "outputs": [],
   "source": [
    "sents = list(map(lambda s : analyzer.polarity_scores(s)['compound'], hl))"
   ]
  },
  {
   "cell_type": "code",
   "execution_count": 181,
   "id": "f491d5d7",
   "metadata": {
    "ExecuteTime": {
     "end_time": "2022-05-25T04:21:09.075119Z",
     "start_time": "2022-05-25T04:21:08.984541Z"
    }
   },
   "outputs": [],
   "source": [
    "X=np.array(list(map(lambda d: [d['neg'], d['neu'], d['pos']], sents)))"
   ]
  },
  {
   "cell_type": "code",
   "execution_count": 182,
   "id": "5f3858ae",
   "metadata": {
    "ExecuteTime": {
     "end_time": "2022-05-25T04:21:12.971058Z",
     "start_time": "2022-05-25T04:21:12.952259Z"
    }
   },
   "outputs": [
    {
     "data": {
      "text/plain": [
       "(1989, 3)"
      ]
     },
     "execution_count": 182,
     "metadata": {},
     "output_type": "execute_result"
    }
   ],
   "source": [
    "X.shape"
   ]
  },
  {
   "cell_type": "code",
   "execution_count": 184,
   "id": "d4a2ab4e",
   "metadata": {
    "ExecuteTime": {
     "end_time": "2022-05-25T04:21:20.349152Z",
     "start_time": "2022-05-25T04:21:20.333174Z"
    }
   },
   "outputs": [
    {
     "name": "stdout",
     "output_type": "stream",
     "text": [
      "(1591, 3)\n",
      "(398, 3)\n"
     ]
    }
   ],
   "source": [
    "Xtrain, Xtest, ytrain, ytest = train_test_split(X, df.Label.to_numpy(), test_size=0.2, shuffle=False)\n",
    "\n",
    "print(Xtrain.shape)\n",
    "print(Xtest.shape)"
   ]
  },
  {
   "cell_type": "code",
   "execution_count": 185,
   "id": "02c029f4",
   "metadata": {
    "ExecuteTime": {
     "end_time": "2022-05-25T04:21:22.720067Z",
     "start_time": "2022-05-25T04:21:22.703114Z"
    }
   },
   "outputs": [],
   "source": [
    "import seaborn as sns"
   ]
  },
  {
   "cell_type": "code",
   "execution_count": 186,
   "id": "f83591b2",
   "metadata": {
    "ExecuteTime": {
     "end_time": "2022-05-25T04:21:25.393511Z",
     "start_time": "2022-05-25T04:21:25.021090Z"
    }
   },
   "outputs": [
    {
     "data": {
      "text/plain": [
       "<matplotlib.axes._subplots.AxesSubplot at 0x22afe2f4100>"
      ]
     },
     "execution_count": 186,
     "metadata": {},
     "output_type": "execute_result"
    },
    {
     "data": {
      "image/png": "[encoded data removed]",
      "text/plain": [
       "<Figure size 432x288 with 1 Axes>"
      ]
     },
     "metadata": {
      "needs_background": "light"
     },
     "output_type": "display_data"
    }
   ],
   "source": [
    "sns.histplot(Xtrain[:,1])"
   ]
  },
  {
   "cell_type": "code",
   "execution_count": 187,
   "id": "ad9dc6af",
   "metadata": {
    "ExecuteTime": {
     "end_time": "2022-05-25T04:21:29.615751Z",
     "start_time": "2022-05-25T04:21:29.597422Z"
    }
   },
   "outputs": [
    {
     "data": {
      "text/plain": [
       "array([0.667, 0.615, 0.632, ..., 0.593, 0.63 , 0.633])"
      ]
     },
     "execution_count": 187,
     "metadata": {},
     "output_type": "execute_result"
    }
   ],
   "source": [
    "X[:,1]"
   ]
  },
  {
   "cell_type": "code",
   "execution_count": 192,
   "id": "ab6522d3",
   "metadata": {
    "ExecuteTime": {
     "end_time": "2022-05-25T04:23:05.635119Z",
     "start_time": "2022-05-25T04:23:05.500887Z"
    }
   },
   "outputs": [
    {
     "data": {
      "text/plain": [
       "<matplotlib.axes._subplots.AxesSubplot at 0x22a8f8980a0>"
      ]
     },
     "execution_count": 192,
     "metadata": {},
     "output_type": "execute_result"
    },
    {
     "data": {
      "image/png": "[encoded data removed]",
      "text/plain": [
       "<Figure size 432x288 with 1 Axes>"
      ]
     },
     "metadata": {
      "needs_background": "light"
     },
     "output_type": "display_data"
    }
   ],
   "source": [
    "sns.violinplot(y=X[:,2], x=y)"
   ]
  },
  {
   "cell_type": "code",
   "execution_count": 193,
   "id": "665360b3",
   "metadata": {
    "ExecuteTime": {
     "end_time": "2022-05-25T04:24:03.134746Z",
     "start_time": "2022-05-25T04:24:03.093826Z"
    }
   },
   "outputs": [
    {
     "data": {
      "text/plain": [
       "LogisticRegression()"
      ]
     },
     "execution_count": 193,
     "metadata": {},
     "output_type": "execute_result"
    }
   ],
   "source": [
    "m = LogisticRegression()\n",
    "m.fit(Xtrain,ytrain)"
   ]
  },
  {
   "cell_type": "code",
   "execution_count": 194,
   "id": "07ea62fa",
   "metadata": {
    "ExecuteTime": {
     "end_time": "2022-05-25T04:24:33.740980Z",
     "start_time": "2022-05-25T04:24:33.725023Z"
    }
   },
   "outputs": [],
   "source": [
    "ytrainpred=m.predict(Xtrain)\n",
    "ytestpred=m.predict(Xtest)"
   ]
  },
  {
   "cell_type": "code",
   "execution_count": 199,
   "id": "f64d8e49",
   "metadata": {
    "ExecuteTime": {
     "end_time": "2022-05-25T04:26:20.124990Z",
     "start_time": "2022-05-25T04:26:20.103081Z"
    }
   },
   "outputs": [
    {
     "data": {
      "text/plain": [
       "1    1579\n",
       "0      12\n",
       "dtype: int64"
      ]
     },
     "execution_count": 199,
     "metadata": {},
     "output_type": "execute_result"
    }
   ],
   "source": [
    "pd.Series(ytrainpred).value_counts()"
   ]
  },
  {
   "cell_type": "markdown",
   "id": "4a27a5e1",
   "metadata": {},
   "source": [
    "- model is just predicting all 1s"
   ]
  },
  {
   "cell_type": "code",
   "execution_count": 195,
   "id": "f64a410c",
   "metadata": {
    "ExecuteTime": {
     "end_time": "2022-05-25T04:24:44.572928Z",
     "start_time": "2022-05-25T04:24:44.549020Z"
    }
   },
   "outputs": [
    {
     "name": "stdout",
     "output_type": "stream",
     "text": [
      "              precision    recall  f1-score   support\n",
      "\n",
      "           0       0.33      0.01      0.01       728\n",
      "           1       0.54      0.99      0.70       863\n",
      "\n",
      "    accuracy                           0.54      1591\n",
      "   macro avg       0.44      0.50      0.36      1591\n",
      "weighted avg       0.45      0.54      0.38      1591\n",
      "\n"
     ]
    }
   ],
   "source": [
    "print(classification_report(ytrain,ytrainpred))"
   ]
  },
  {
   "cell_type": "code",
   "execution_count": 196,
   "id": "a542aa59",
   "metadata": {
    "ExecuteTime": {
     "end_time": "2022-05-25T04:24:45.758234Z",
     "start_time": "2022-05-25T04:24:45.744272Z"
    }
   },
   "outputs": [
    {
     "name": "stdout",
     "output_type": "stream",
     "text": [
      "              precision    recall  f1-score   support\n",
      "\n",
      "           0       0.50      0.01      0.01       196\n",
      "           1       0.51      1.00      0.67       202\n",
      "\n",
      "    accuracy                           0.51       398\n",
      "   macro avg       0.50      0.50      0.34       398\n",
      "weighted avg       0.50      0.51      0.35       398\n",
      "\n"
     ]
    }
   ],
   "source": [
    "print(classification_report(ytest,ytestpred))"
   ]
  },
  {
   "cell_type": "code",
   "execution_count": null,
   "id": "d06ca284",
   "metadata": {},
   "outputs": [],
   "source": []
  },
  {
   "cell_type": "code",
   "execution_count": null,
   "id": "8741052c",
   "metadata": {},
   "outputs": [],
   "source": []
  },
  {
   "cell_type": "markdown",
   "id": "2a8d9db2",
   "metadata": {},
   "source": [
    "# YFinance Data"
   ]
  },
  {
   "cell_type": "code",
   "execution_count": null,
   "id": "cf12936b",
   "metadata": {
    "ExecuteTime": {
     "end_time": "2022-05-24T15:03:42.143472Z",
     "start_time": "2022-05-24T15:03:41.831777Z"
    }
   },
   "outputs": [],
   "source": [
    "import yfinance as yf"
   ]
  },
  {
   "cell_type": "code",
   "execution_count": null,
   "id": "8d4dfeee",
   "metadata": {
    "ExecuteTime": {
     "end_time": "2022-05-24T15:21:46.445245Z",
     "start_time": "2022-05-24T15:21:46.220262Z"
    }
   },
   "outputs": [],
   "source": [
    "# t = yf.Ticker('^GSPC')\n",
    "t = yf.Ticker('^DJI')\n",
    "data = t.history(start='2008-08-08', end='2016-07-02')\n",
    "data.head()"
   ]
  },
  {
   "cell_type": "code",
   "execution_count": null,
   "id": "a31d0f75",
   "metadata": {
    "ExecuteTime": {
     "end_time": "2022-05-24T15:21:48.535440Z",
     "start_time": "2022-05-24T15:21:48.392518Z"
    }
   },
   "outputs": [],
   "source": [
    "data.Close.plot()"
   ]
  },
  {
   "cell_type": "code",
   "execution_count": null,
   "id": "dbcabd5a",
   "metadata": {
    "ExecuteTime": {
     "end_time": "2022-05-24T15:21:48.989346Z",
     "start_time": "2022-05-24T15:21:48.976391Z"
    }
   },
   "outputs": [],
   "source": [
    "data.Close.pct_change().dropna() > 0"
   ]
  },
  {
   "cell_type": "markdown",
   "id": "51897ee9",
   "metadata": {},
   "source": [
    "# Scraping Current day headlines"
   ]
  },
  {
   "cell_type": "code",
   "execution_count": null,
   "id": "8e9ce367",
   "metadata": {
    "ExecuteTime": {
     "end_time": "2022-05-24T23:21:24.113804Z",
     "start_time": "2022-05-24T23:21:23.397719Z"
    }
   },
   "outputs": [],
   "source": [
    "# Import libraries\n",
    "import pandas as pd\n",
    "from bs4 import BeautifulSoup\n",
    "import matplotlib.pyplot as plt\n",
    "from urllib.request import urlopen\n",
    "from urllib.request import Request\n",
    "from nltk.sentiment.vader import SentimentIntensityAnalyzer\n",
    "\n",
    "# Parameters \n",
    "n = 3 #the # of article headlines displayed per ticker\n",
    "tickers = ['AAPL', 'TSLA', 'AMZN']"
   ]
  },
  {
   "cell_type": "code",
   "execution_count": null,
   "id": "8f5a95cf",
   "metadata": {
    "ExecuteTime": {
     "end_time": "2022-05-24T23:21:34.800909Z",
     "start_time": "2022-05-24T23:21:33.116590Z"
    }
   },
   "outputs": [],
   "source": [
    "# Get Data\n",
    "finviz_url = 'https://finviz.com/quote.ashx?t='\n",
    "news_tables = {}\n",
    "\n",
    "for ticker in tickers:\n",
    "    url = finviz_url + ticker\n",
    "    req = Request(url=url,headers={'user-agent': 'my-app/0.0.1'}) \n",
    "    resp = urlopen(req)    \n",
    "    html = BeautifulSoup(resp, features=\"lxml\")\n",
    "    news_table = html.find(id='news-table')\n",
    "    news_tables[ticker] = news_table\n",
    "\n",
    "try:\n",
    "    for ticker in tickers:\n",
    "        df = news_tables[ticker]\n",
    "        df_tr = df.findAll('tr')\n",
    "    \n",
    "        print ('\\n')\n",
    "        print ('Recent News Headlines for {}: '.format(ticker))\n",
    "        \n",
    "        for i, table_row in enumerate(df_tr):\n",
    "            a_text = table_row.a.text\n",
    "            td_text = table_row.td.text\n",
    "            td_text = td_text.strip()\n",
    "            print(a_text,'(',td_text,')')\n",
    "            if i == n-1:\n",
    "                break\n",
    "except KeyError:\n",
    "    pass"
   ]
  },
  {
   "cell_type": "code",
   "execution_count": null,
   "id": "df5a2e32",
   "metadata": {},
   "outputs": [],
   "source": []
  },
  {
   "cell_type": "code",
   "execution_count": null,
   "id": "55eb3b46",
   "metadata": {},
   "outputs": [],
   "source": []
  },
  {
   "cell_type": "code",
   "execution_count": null,
   "id": "c5861801",
   "metadata": {},
   "outputs": [],
   "source": []
  },
  {
   "cell_type": "code",
   "execution_count": null,
   "id": "1c8f13dd",
   "metadata": {},
   "outputs": [],
   "source": []
  }
 ],
 "metadata": {
  "hide_input": false,
  "kernelspec": {
   "display_name": "Python 3 (ipykernel)",
   "language": "python",
   "name": "python3"
  },
  "language_info": {
   "codemirror_mode": {
    "name": "ipython",
    "version": 3
   },
   "file_extension": ".py",
   "mimetype": "text/x-python",
   "name": "python",
   "nbconvert_exporter": "python",
   "pygments_lexer": "ipython3",
   "version": "3.9.7"
  },
  "toc": {
   "base_numbering": 1,
   "nav_menu": {},
   "number_sections": true,
   "sideBar": true,
   "skip_h1_title": false,
   "title_cell": "Table of Contents",
   "title_sidebar": "Contents",
   "toc_cell": true,
   "toc_position": {},
   "toc_section_display": true,
   "toc_window_display": true
  },
  "varInspector": {
   "cols": {
    "lenName": 16,
    "lenType": 16,
    "lenVar": 40
   },
   "kernels_config": {
    "python": {
     "delete_cmd_postfix": "",
     "delete_cmd_prefix": "del ",
     "library": "var_list.py",
     "varRefreshCmd": "print(var_dic_list())"
    },
    "r": {
     "delete_cmd_postfix": ") ",
     "delete_cmd_prefix": "rm(",
     "library": "var_list.r",
     "varRefreshCmd": "cat(var_dic_list()) "
    }
   },
   "types_to_exclude": [
    "module",
    "function",
    "builtin_function_or_method",
    "instance",
    "_Feature"
   ],
   "window_display": false
  }
 },
 "nbformat": 4,
 "nbformat_minor": 5
}
